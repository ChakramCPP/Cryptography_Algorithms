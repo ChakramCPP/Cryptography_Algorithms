{
  "nbformat": 4,
  "nbformat_minor": 0,
  "metadata": {
    "colab": {
      "name": "CNS_Lab1.ipynb",
      "version": "0.3.2",
      "provenance": [],
      "include_colab_link": true
    },
    "kernelspec": {
      "name": "python3",
      "display_name": "Python 3"
    }
  },
  "cells": [
    {
      "cell_type": "markdown",
      "metadata": {
        "id": "view-in-github",
        "colab_type": "text"
      },
      "source": [
        "<a href=\"https://colab.research.google.com/github/ChakramCPP/Cryptography_Algorithms/blob/master/CNS_Lab1.ipynb\" target=\"_parent\"><img src=\"https://colab.research.google.com/assets/colab-badge.svg\" alt=\"Open In Colab\"/></a>"
      ]
    },
    {
      "cell_type": "markdown",
      "metadata": {
        "id": "XUlRE2LCev5Q",
        "colab_type": "text"
      },
      "source": [
        "### **PlayFair Cipher**"
      ]
    },
    {
      "cell_type": "code",
      "metadata": {
        "id": "LZWrXwZ1c6vN",
        "colab_type": "code",
        "colab": {
          "base_uri": "https://localhost:8080/",
          "height": 493
        },
        "outputId": "39d9ed2f-bd91-4581-c3b2-e75d6061b53a"
      },
      "source": [
        "KEY = \"\"\n",
        "MATRIX = [[None for _ in range(5)] for _ in range(5)]\n",
        "\n",
        "cols = [[None for _ in range(5)] for _ in range(5)]\n",
        "\n",
        "\n",
        "def initialize():\n",
        "    alphabet_set = [\n",
        "        \"A\",\n",
        "        \"B\",\n",
        "        \"C\",\n",
        "        \"D\",\n",
        "        \"E\",\n",
        "        \"F\",\n",
        "        \"G\",\n",
        "        \"H\",\n",
        "        \"I\",\n",
        "        \"J\",\n",
        "        \"K\",\n",
        "        \"L\",\n",
        "        \"M\",\n",
        "        \"N\",\n",
        "        \"O\",\n",
        "        \"P\",\n",
        "        \"Q\",\n",
        "        \"R\",\n",
        "        \"S\",\n",
        "        \"T\",\n",
        "        \"U\",\n",
        "        \"V\",\n",
        "        \"W\",\n",
        "        \"X\",\n",
        "        \"Y\",\n",
        "        \"Z\",\n",
        "    ]\n",
        "\n",
        "    # contruct MATRIX\n",
        "    k, c = 0, 0\n",
        "    for i in range(5):\n",
        "        for j in range(5):\n",
        "            if k < len(KEY):\n",
        "                MATRIX[i][j] = KEY[k]\n",
        "                alphabet_set.remove(KEY[k])\n",
        "                k += 1\n",
        "            else:\n",
        "                if alphabet_set[c] == \"I\":\n",
        "                    MATRIX[i][j] = \"I\"\n",
        "                    alphabet_set.remove(\"J\")\n",
        "                else:\n",
        "                    MATRIX[i][j] = alphabet_set[c]\n",
        "                c += 1\n",
        "            cols[j][i] = MATRIX[i][j]\n",
        "\n",
        "    for i in range(5):\n",
        "        for j in range(5):\n",
        "            if MATRIX[i][j] == \"I\":\n",
        "                print(\"I/J\", end=\"\\t\")\n",
        "            else:\n",
        "                print(MATRIX[i][j], end=\"\\t\")\n",
        "        print()\n",
        "    print()\n",
        "\n",
        "\n",
        "def get_pos(l):\n",
        "    if l == \"J\":\n",
        "        return get_pos(\"I\")\n",
        "    for i in range(5):\n",
        "        for j in range(5):\n",
        "            if MATRIX[i][j] == l:\n",
        "                return i, j\n",
        "    return -1, -1\n",
        "\n",
        "\n",
        "def is_same_col(x, y):\n",
        "    for i in range(len(cols)):\n",
        "        if x in cols[i] and y in cols[i]:\n",
        "            return True, i, (cols[i].index(x), cols[i].index(y))\n",
        "    return False, -1, (-1, -1)\n",
        "\n",
        "\n",
        "def is_same_row(x, y):\n",
        "    for i in range(5):\n",
        "        if x in MATRIX[i] and y in MATRIX[i]:\n",
        "            return True, i, (MATRIX[i].index(x), MATRIX[i].index(y))\n",
        "    return False, -1, (-1, -1)\n",
        "\n",
        "\n",
        "def validate_constraints(text):\n",
        "    text = list(text)\n",
        "    # 1. Repeating letters get 'X' inserted in the Middle\n",
        "    to_be_inserted_at = []\n",
        "    for i in range(len(text) - 1):\n",
        "        if text[i] == text[i + 1]:\n",
        "            to_be_inserted_at.append(i + 1)\n",
        "\n",
        "    for pos in to_be_inserted_at:\n",
        "        text.insert(pos, \"X\")\n",
        "\n",
        "    # 2. If length of text is odd => append 'X'\n",
        "    if len(text) % 2 != 0:\n",
        "        text.append(\"X\")\n",
        "\n",
        "    return \"\".join(text)\n",
        "\n",
        "\n",
        "def Encrypt(plain_text):\n",
        "    print(plain_text)\n",
        "    text = validate_constraints(plain_text)\n",
        "    print(text)\n",
        "    cipher = []\n",
        "    i = 0\n",
        "    while i < len(text):\n",
        "        print(text[i], text[i + 1])\n",
        "        row_res = is_same_row(text[i], text[i + 1])\n",
        "        col_res = is_same_col(text[i], text[i + 1])\n",
        "        # print(row_res, col_res)\n",
        "        if row_res[0]:\n",
        "            row = row_res[1]\n",
        "            col = row_res[2]\n",
        "            print(\"same row\", row, col)\n",
        "            cipher.append(MATRIX[row][(col[0] + 1) % 5])\n",
        "            cipher.append(MATRIX[row][(col[1] + 1) % 5])\n",
        "            # print(cipher)\n",
        "\n",
        "        elif col_res[0]:\n",
        "            col = col_res[1]\n",
        "            row = col_res[2]\n",
        "            print(\"same col\", row, col)\n",
        "            cipher.append(MATRIX[(row[0] + 1) % 5][col])\n",
        "            cipher.append(MATRIX[(row[1] + 1) % 5][col])\n",
        "            # print(cipher)\n",
        "\n",
        "        else:\n",
        "            print(\"else\")\n",
        "            x = get_pos(text[i])\n",
        "            y = get_pos(text[i + 1])\n",
        "            print(x, y)\n",
        "            if x == y:\n",
        "                tmp = MATRIX[(x[0] + 1) % 5][(x[1] + 1) % 5]\n",
        "                print(tmp)\n",
        "                cipher.append(tmp)\n",
        "                cipher.append(tmp)\n",
        "            else:\n",
        "                cipher.append(MATRIX[x[0]][y[1]])\n",
        "                cipher.append(MATRIX[y[0]][x[1]])\n",
        "            # print(cipher)\n",
        "\n",
        "        i += 2\n",
        "    return \"\".join(cipher)\n",
        "def Decrypt(plain_text):\n",
        "    print(plain_text)\n",
        "    text = plain_text  # validate_constraints(plain_text)\n",
        "    print(text)\n",
        "    cipher = []\n",
        "    i = 0\n",
        "    while i < len(text):\n",
        "        print(text[i], text[i + 1])\n",
        "\n",
        "        if text[i] == text[i + 1]:\n",
        "            print(\"same\")\n",
        "            x = get_pos(text[i])\n",
        "            tmp = MATRIX[(x[0] - 1) % 5][(x[1] - 1) % 5]\n",
        "            print(tmp)\n",
        "            cipher.append(tmp)\n",
        "            cipher.append(tmp)\n",
        "\n",
        "        else:\n",
        "            row_res = is_same_row(text[i], text[i + 1])\n",
        "            col_res = is_same_col(text[i], text[i + 1])\n",
        "            # print(row_res, col_res)\n",
        "            if row_res[0]:\n",
        "                row = row_res[1]\n",
        "                col = row_res[2]\n",
        "                print(\"same row\", row, col)\n",
        "                cipher.append(MATRIX[row][(col[0] - 1) % 5])\n",
        "                cipher.append(MATRIX[row][(col[1] - 1) % 5])\n",
        "                # print(cipher)\n",
        "\n",
        "            elif col_res[0]:\n",
        "                col = col_res[1]\n",
        "                row = col_res[2]\n",
        "                print(\"same col\", row, col)\n",
        "                cipher.append(MATRIX[(row[0] - 1) % 5][col])\n",
        "                cipher.append(MATRIX[(row[1] - 1) % 5][col])\n",
        "                # print(cipher)\n",
        "\n",
        "            else:\n",
        "                print(\"else\")\n",
        "                x = get_pos(text[i])\n",
        "                y = get_pos(text[i + 1])\n",
        "                print(x, y)\n",
        "                cipher.append(MATRIX[x[0]][y[1]])\n",
        "                cipher.append(MATRIX[y[0]][x[1]])\n",
        "                # print(cipher)\n",
        "\n",
        "        i += 2\n",
        "    return \"\".join(cipher)\n",
        "\n",
        "def main():\n",
        "    global KEY\n",
        "    print(\"Playfair Cipher Encryption Alg\\n\")\n",
        "\n",
        "    KEY = input(\"Enter the Key: \").upper()\n",
        "    print()\n",
        "\n",
        "    initialize()\n",
        "\n",
        "    plain_text = input(\"Enter a string: \").upper()\n",
        "    print()\n",
        "\n",
        "    cipher = Encrypt(plain_text)\n",
        "    print(cipher)\n",
        "\n",
        "\n",
        "\n",
        "if __name__ == \"__main__\":\n",
        "    main()"
      ],
      "execution_count": 1,
      "outputs": [
        {
          "output_type": "stream",
          "text": [
            "Playfair Cipher Encryption Alg\n",
            "\n",
            "Enter the Key: asd\n",
            "\n",
            "A\tS\tD\tB\tC\t\n",
            "E\tF\tG\tH\tI/J\t\n",
            "K\tL\tM\tN\tO\t\n",
            "P\tQ\tR\tT\tU\t\n",
            "V\tW\tX\tY\tZ\t\n",
            "\n",
            "Enter a string: chakrapani\n",
            "\n",
            "CHAKRAPANI\n",
            "CHAKRAPANI\n",
            "C H\n",
            "else\n",
            "(0, 4) (1, 3)\n",
            "A K\n",
            "same col (0, 2) 0\n",
            "R A\n",
            "else\n",
            "(3, 2) (0, 0)\n",
            "P A\n",
            "same col (3, 0) 0\n",
            "N I\n",
            "else\n",
            "(2, 3) (1, 4)\n",
            "BIEPPDVEOH\n"
          ],
          "name": "stdout"
        }
      ]
    },
    {
      "cell_type": "markdown",
      "metadata": {
        "id": "CUQRQ74ie-WY",
        "colab_type": "text"
      },
      "source": [
        "## **Ceaser Cipher**"
      ]
    },
    {
      "cell_type": "code",
      "metadata": {
        "id": "Qyq1JgbLd5i0",
        "colab_type": "code",
        "outputId": "4c6be7da-ffd8-446f-ba78-76fe033ed0b1",
        "colab": {
          "base_uri": "https://localhost:8080/",
          "height": 153
        }
      },
      "source": [
        "def decrypt(msg,n,k):\n",
        "    res=\"\"\n",
        "    for i in range(n):\n",
        "        tp = msg[i]\n",
        "        if (tp.isupper()):\n",
        "            res += chr((ord(tp) - 65 - k) % 26 + 65)\n",
        "        else:\n",
        "            res += chr((ord(tp) - 97 - k) % 26 + 97)\n",
        "    print(res)\n",
        "    return res\n",
        "\n",
        "\n",
        "\n",
        "\n",
        "def encrypt(msg,n,k):\n",
        "    res1=\"\"\n",
        "    for i in range(n):\n",
        "        tp=msg[i]\n",
        "        if(tp.isupper()):\n",
        "            res1 += chr((ord(tp) -65+ k) % 26 +65)\n",
        "        else:\n",
        "            res1 +=chr((ord(tp)-97+k)%26 +97)\n",
        "    return res1\n",
        "\n",
        "\n",
        "\n",
        "\n",
        "\n",
        "\n",
        "msg=input(\"enter the message\")\n",
        "print(msg)\n",
        "\n",
        "n= len(msg)\n",
        "k=int(input(\"enter the key to encrypt\"))\n",
        "cipher=encrypt(msg,n,k)\n",
        "print(\"your message encrypted \\n\")\n",
        "print(\"encrypted msg is \",cipher)\n",
        "dec=decrypt(cipher,n,k)\n",
        "print(\"decrypted msg is \",dec)"
      ],
      "execution_count": 0,
      "outputs": [
        {
          "output_type": "stream",
          "text": [
            "enter the messagewearediscoveredsaveyourselfx\n",
            "wearediscoveredsaveyourselfx\n",
            "enter the key to encrypt4\n",
            "your message encrypted \n",
            "\n",
            "encrypted msg is  aievihmwgszivihwezicsyvwipjb\n",
            "wearediscoveredsaveyourselfx\n",
            "decrypted msg is  wearediscoveredsaveyourselfx\n"
          ],
          "name": "stdout"
        }
      ]
    },
    {
      "cell_type": "markdown",
      "metadata": {
        "id": "Dt-nEXJqvK-8",
        "colab_type": "text"
      },
      "source": [
        "# **Affine Cipher**"
      ]
    },
    {
      "cell_type": "code",
      "metadata": {
        "id": "OyJjxwCydv5H",
        "colab_type": "code",
        "outputId": "38112971-960d-4b2d-b06f-effa21c5e1e4",
        "colab": {
          "base_uri": "https://localhost:8080/",
          "height": 51
        }
      },
      "source": [
        "def egcd(a, b): \n",
        "\tx,y, u,v = 0,1, 1,0\n",
        "\twhile a != 0: \n",
        "\t\tq, r = b//a, b%a \n",
        "\t\tm, n = x-u*q, y-v*q \n",
        "\t\tb,a, x,y, u,v = a,r, u,v, m,n \n",
        "\tgcd = b \n",
        "\treturn gcd, x, y \n",
        "\n",
        "def modinv(a, m): \n",
        "\tgcd, x, y = egcd(a, m) \n",
        "\tif gcd != 1: \n",
        "\t\treturn None\n",
        "\telse: \n",
        "\t\treturn x % m \n",
        "\n",
        "def affine_encrypt(text, key): \n",
        "\treturn ''.join([ chr((( key[0]*(ord(t) - ord('A')) + key[1] ) % 26) + ord('A')) for t in text.upper().replace(' ', '') ]) \n",
        "\n",
        "def affine_decrypt(cipher, key): \n",
        "\treturn ''.join([ chr((( modinv(key[0], 26)*(ord(c) - ord('A') - key[1])) % 26) + ord('A')) for c in cipher ]) \n",
        "\n",
        "\n",
        "def main(): \n",
        "\ttext = 'Chakrapani'\n",
        "\tkey = [23, 1] \n",
        "\taffine_encrypted_text = affine_encrypt(text, key) \n",
        "\n",
        "\tprint('Encrypted Text: {}'.format( affine_encrypted_text )) \n",
        "\tprint('Decrypted Text: {}'.format( affine_decrypt(affine_encrypted_text, key) )) \n",
        "\n",
        "\n",
        "if __name__ == '__main__': \n",
        "\tmain() "
      ],
      "execution_count": 0,
      "outputs": [
        {
          "output_type": "stream",
          "text": [
            "Encrypted Text: VGBXCBIBOD\n",
            "Decrypted Text: CHAKRAPANI\n"
          ],
          "name": "stdout"
        }
      ]
    },
    {
      "cell_type": "markdown",
      "metadata": {
        "id": "8KY3qv4WemNG",
        "colab_type": "text"
      },
      "source": [
        "Python script"
      ]
    },
    {
      "cell_type": "code",
      "metadata": {
        "id": "A76-2zMtApdt",
        "colab_type": "code",
        "outputId": "cdb13081-aa80-476f-d9d5-e107831ad6b4",
        "colab": {
          "base_uri": "https://localhost:8080/",
          "height": 129
        }
      },
      "source": [
        "try: \n",
        "\tfrom googlesearch import search\n",
        "  import webbrowser \n",
        "except ImportError: \n",
        "\tprint(\"No module named 'google' found\") \n",
        "\n",
        "# to search \n",
        "query = \"Geeksforgeeks amcat\"\n",
        "\n",
        "for j in search(query, num=10, stop=1, pause=2):\n",
        "  webbrowser.open(j) \n",
        "  print(j) \n"
      ],
      "execution_count": 0,
      "outputs": [
        {
          "output_type": "error",
          "ename": "IndentationError",
          "evalue": "ignored",
          "traceback": [
            "\u001b[0;36m  File \u001b[0;32m\"<ipython-input-15-f1f238f8faf8>\"\u001b[0;36m, line \u001b[0;32m3\u001b[0m\n\u001b[0;31m    import webbrowser\u001b[0m\n\u001b[0m                      ^\u001b[0m\n\u001b[0;31mIndentationError\u001b[0m\u001b[0;31m:\u001b[0m unindent does not match any outer indentation level\n"
          ]
        }
      ]
    },
    {
      "cell_type": "code",
      "metadata": {
        "id": "7H5hRYrQA5z6",
        "colab_type": "code",
        "colab": {}
      },
      "source": [
        "import webbrowser\n",
        "webbrowser.open('http://inventwithpython.com/')"
      ],
      "execution_count": 0,
      "outputs": []
    },
    {
      "cell_type": "code",
      "metadata": {
        "id": "WLSPaCtrBYSz",
        "colab_type": "code",
        "outputId": "12e044b7-0f5e-406a-ff36-3e05b68a19bb",
        "colab": {
          "base_uri": "https://localhost:8080/",
          "height": 187
        }
      },
      "source": [
        "from googlesearch import search\n",
        "import webbrowser\n",
        "query = \"nlp\"\n",
        "for j in search(query, num=10, stop=10, pause=2):\n",
        "  webbrowser.open(j) \n",
        "  print(j)\n"
      ],
      "execution_count": 0,
      "outputs": [
        {
          "output_type": "stream",
          "text": [
            "https://www.nlpacademy.co.uk/what_is_nlp/\n",
            "https://en.wikipedia.org/wiki/Neuro-linguistic_programming\n",
            "http://www.nlp.com/what-is-nlp/\n",
            "http://www.nlp.com/training/\n",
            "http://www.nlp.com/free-ecourse/\n",
            "http://www.nlp.com/what-is-mer/\n",
            "http://www.nlp.com/video-faq/\n",
            "https://en.wikipedia.org/wiki/Methods_of_neuro-linguistic_programming\n",
            "https://en.wikipedia.org/wiki/Richard_Bandler\n",
            "https://en.wikipedia.org/wiki/John_Grinder\n"
          ],
          "name": "stdout"
        }
      ]
    },
    {
      "cell_type": "code",
      "metadata": {
        "id": "Frl1y9ODDwg9",
        "colab_type": "code",
        "outputId": "02714718-1e8d-473b-d194-be9cb705db01",
        "colab": {
          "base_uri": "https://localhost:8080/",
          "height": 350
        }
      },
      "source": [
        "from google import search\n",
        "\n",
        "for url in search('google 1.9.1 python', tld='com.pk', lang='es', stop=5):\n",
        "    print(url)"
      ],
      "execution_count": 0,
      "outputs": [
        {
          "output_type": "error",
          "ename": "ImportError",
          "evalue": "ignored",
          "traceback": [
            "\u001b[0;31m---------------------------------------------------------------------------\u001b[0m",
            "\u001b[0;31mImportError\u001b[0m                               Traceback (most recent call last)",
            "\u001b[0;32m<ipython-input-23-b16038502845>\u001b[0m in \u001b[0;36m<module>\u001b[0;34m()\u001b[0m\n\u001b[0;32m----> 1\u001b[0;31m \u001b[0;32mfrom\u001b[0m \u001b[0mgoogle\u001b[0m \u001b[0;32mimport\u001b[0m \u001b[0msearch\u001b[0m\u001b[0;34m\u001b[0m\u001b[0;34m\u001b[0m\u001b[0m\n\u001b[0m\u001b[1;32m      2\u001b[0m \u001b[0;34m\u001b[0m\u001b[0m\n\u001b[1;32m      3\u001b[0m \u001b[0;32mfor\u001b[0m \u001b[0murl\u001b[0m \u001b[0;32min\u001b[0m \u001b[0msearch\u001b[0m\u001b[0;34m(\u001b[0m\u001b[0;34m'google 1.9.1 python'\u001b[0m\u001b[0;34m,\u001b[0m \u001b[0mtld\u001b[0m\u001b[0;34m=\u001b[0m\u001b[0;34m'com.pk'\u001b[0m\u001b[0;34m,\u001b[0m \u001b[0mlang\u001b[0m\u001b[0;34m=\u001b[0m\u001b[0;34m'es'\u001b[0m\u001b[0;34m,\u001b[0m \u001b[0mstop\u001b[0m\u001b[0;34m=\u001b[0m\u001b[0;36m5\u001b[0m\u001b[0;34m)\u001b[0m\u001b[0;34m:\u001b[0m\u001b[0;34m\u001b[0m\u001b[0;34m\u001b[0m\u001b[0m\n\u001b[1;32m      4\u001b[0m     \u001b[0mprint\u001b[0m\u001b[0;34m(\u001b[0m\u001b[0murl\u001b[0m\u001b[0;34m)\u001b[0m\u001b[0;34m\u001b[0m\u001b[0;34m\u001b[0m\u001b[0m\n",
            "\u001b[0;31mImportError\u001b[0m: cannot import name 'search'",
            "",
            "\u001b[0;31m---------------------------------------------------------------------------\u001b[0;32m\nNOTE: If your import is failing due to a missing package, you can\nmanually install dependencies using either !pip or !apt.\n\nTo view examples of installing some common dependencies, click the\n\"Open Examples\" button below.\n\u001b[0;31m---------------------------------------------------------------------------\u001b[0m\n"
          ]
        }
      ]
    },
    {
      "cell_type": "code",
      "metadata": {
        "id": "cJ7LwxebDzvb",
        "colab_type": "code",
        "outputId": "a28020f6-593f-4e74-f234-ffc5f2e6eecc",
        "colab": {
          "base_uri": "https://localhost:8080/",
          "height": 51
        }
      },
      "source": [
        "!pip install google"
      ],
      "execution_count": 0,
      "outputs": [
        {
          "output_type": "stream",
          "text": [
            "Requirement already satisfied: google in /usr/local/lib/python3.6/dist-packages (2.0.2)\n",
            "Requirement already satisfied: beautifulsoup4 in /usr/local/lib/python3.6/dist-packages (from google) (4.6.3)\n"
          ],
          "name": "stdout"
        }
      ]
    }
  ]
}